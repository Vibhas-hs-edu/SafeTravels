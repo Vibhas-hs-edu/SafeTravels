{
 "cells": [
  {
   "cell_type": "code",
   "execution_count": 128,
   "metadata": {
    "colab": {
     "base_uri": "https://localhost:8080/"
    },
    "id": "ablZ6Ttjty5e",
    "outputId": "6befeb71-b704-439f-c735-980ea0eb552f"
   },
   "outputs": [
    {
     "name": "stdout",
     "output_type": "stream",
     "text": [
      "Requirement already satisfied: beautifulsoup4 in /opt/homebrew/Caskroom/miniforge/base/lib/python3.9/site-packages (4.11.1)\n",
      "Requirement already satisfied: soupsieve>1.2 in /opt/homebrew/Caskroom/miniforge/base/lib/python3.9/site-packages (from beautifulsoup4) (2.3.2.post1)\n",
      "Requirement already satisfied: lxml in /opt/homebrew/Caskroom/miniforge/base/lib/python3.9/site-packages (4.8.0)\n",
      "Requirement already satisfied: requests in /opt/homebrew/Caskroom/miniforge/base/lib/python3.9/site-packages (2.27.1)\n",
      "Requirement already satisfied: certifi>=2017.4.17 in /opt/homebrew/Caskroom/miniforge/base/lib/python3.9/site-packages (from requests) (2021.10.8)\n",
      "Requirement already satisfied: idna<4,>=2.5 in /opt/homebrew/Caskroom/miniforge/base/lib/python3.9/site-packages (from requests) (3.3)\n",
      "Requirement already satisfied: charset-normalizer~=2.0.0 in /opt/homebrew/Caskroom/miniforge/base/lib/python3.9/site-packages (from requests) (2.0.12)\n",
      "Requirement already satisfied: urllib3<1.27,>=1.21.1 in /opt/homebrew/Caskroom/miniforge/base/lib/python3.9/site-packages (from requests) (1.26.9)\n",
      "Requirement already satisfied: pandas in /opt/homebrew/Caskroom/miniforge/base/lib/python3.9/site-packages (1.4.2)\n",
      "Requirement already satisfied: python-dateutil>=2.8.1 in /opt/homebrew/Caskroom/miniforge/base/lib/python3.9/site-packages (from pandas) (2.8.2)\n",
      "Requirement already satisfied: pytz>=2020.1 in /opt/homebrew/Caskroom/miniforge/base/lib/python3.9/site-packages (from pandas) (2022.1)\n",
      "Requirement already satisfied: numpy>=1.20.0 in /opt/homebrew/Caskroom/miniforge/base/lib/python3.9/site-packages (from pandas) (1.22.3)\n",
      "Requirement already satisfied: six>=1.5 in /opt/homebrew/Caskroom/miniforge/base/lib/python3.9/site-packages (from python-dateutil>=2.8.1->pandas) (1.15.0)\n"
     ]
    }
   ],
   "source": [
    "!pip install beautifulsoup4\n",
    "!pip install lxml\n",
    "!pip install requests\n",
    "!pip install pandas"
   ]
  },
  {
   "cell_type": "code",
   "execution_count": 129,
   "metadata": {
    "colab": {
     "base_uri": "https://localhost:8080/"
    },
    "id": "nHrJ12TrT7E7",
    "outputId": "918a3525-ee99-465f-e6fe-bdd53c9a6d6f"
   },
   "outputs": [
    {
     "name": "stdout",
     "output_type": "stream",
     "text": [
      "Requirement already satisfied: mysql-connector-python in /opt/homebrew/Caskroom/miniforge/base/lib/python3.9/site-packages (8.0.29)\r\n",
      "Requirement already satisfied: protobuf>=3.0.0 in /opt/homebrew/Caskroom/miniforge/base/lib/python3.9/site-packages (from mysql-connector-python) (3.16.0)\r\n",
      "Requirement already satisfied: six>=1.9 in /opt/homebrew/Caskroom/miniforge/base/lib/python3.9/site-packages (from protobuf>=3.0.0->mysql-connector-python) (1.15.0)\r\n"
     ]
    }
   ],
   "source": [
    "!pip install mysql-connector-python"
   ]
  },
  {
   "cell_type": "code",
   "execution_count": 145,
   "metadata": {},
   "outputs": [],
   "source": [
    "import sys\n",
    "import traceback\n",
    "import logging\n",
    "\n",
    "sys.path.append('/opt/homebrew/Caskroom/miniforge/base/lib/python3.9/site-packages')"
   ]
  },
  {
   "cell_type": "code",
   "execution_count": 146,
   "metadata": {
    "colab": {
     "base_uri": "https://localhost:8080/"
    },
    "id": "WzMLE1jXt1B6",
    "outputId": "46cb6895-cefd-405d-d0b0-ce6bbc91ab3e"
   },
   "outputs": [
    {
     "name": "stdout",
     "output_type": "stream",
     "text": [
      "Succssfully imported libraries\n"
     ]
    }
   ],
   "source": [
    "from bs4 import BeautifulSoup\n",
    "import requests\n",
    "import os\n",
    "import csv\n",
    "import pandas as pd\n",
    "from datetime import datetime\n",
    "from bs4 import BeautifulSoup as soup\n",
    "\n",
    "print(\"Succssfully imported libraries\")"
   ]
  },
  {
   "cell_type": "code",
   "execution_count": 147,
   "metadata": {
    "colab": {
     "base_uri": "https://localhost:8080/"
    },
    "id": "m77jAWLPdfoC",
    "outputId": "5731afed-2772-4b4f-a4c7-ccb799fede1f"
   },
   "outputs": [
    {
     "data": {
      "text/plain": [
       "200"
      ]
     },
     "execution_count": 147,
     "metadata": {},
     "output_type": "execute_result"
    }
   ],
   "source": [
    "url = 'https://www.worldometers.info/coronavirus/'\n",
    "worldo_meter_response = requests.get(url, allow_redirects = True)\n",
    "worldo_meter_response.status_code"
   ]
  },
  {
   "cell_type": "code",
   "execution_count": 148,
   "metadata": {
    "id": "v8PbvoZRuuOM"
   },
   "outputs": [],
   "source": [
    "soup_response = soup(worldo_meter_response.text, \"html.parser\")"
   ]
  },
  {
   "cell_type": "code",
   "execution_count": 149,
   "metadata": {
    "id": "vkAXHIfZvhpO"
   },
   "outputs": [],
   "source": [
    "sections = soup_response(\"div\", id = \"maincounter-wrap\")"
   ]
  },
  {
   "cell_type": "code",
   "execution_count": 150,
   "metadata": {
    "id": "s8sZFf_8vzzk"
   },
   "outputs": [],
   "source": [
    "total_cases = sections[0].find('span').text.replace(\" \", \"\").replace(\",\", \"\")\n",
    "total_deaths = sections[1].find('span').text.replace(\" \", \"\").replace(\",\", \"\")\n",
    "total_recovered = sections[2].find('span').text.replace(\" \", \"\").replace(\",\", \"\")"
   ]
  },
  {
   "cell_type": "code",
   "execution_count": 151,
   "metadata": {
    "colab": {
     "base_uri": "https://localhost:8080/"
    },
    "id": "-PONfpsLv0m3",
    "outputId": "7a173cde-a8e0-4eb6-c822-48d11ede9b94"
   },
   "outputs": [
    {
     "name": "stdout",
     "output_type": "stream",
     "text": [
      "Total cases : 514653221\n",
      "Total deaths : 6265797\n",
      "Total recovered : 469151118\n"
     ]
    }
   ],
   "source": [
    "print(f'Total cases : {total_cases}')\n",
    "print(f'Total deaths : {total_deaths}')\n",
    "print(f'Total recovered : {total_recovered}')"
   ]
  },
  {
   "cell_type": "markdown",
   "metadata": {
    "id": "_EFVW8fMxLHH"
   },
   "source": [
    "Country specific covid data"
   ]
  },
  {
   "cell_type": "code",
   "execution_count": 160,
   "metadata": {
    "id": "aBqegKtLNQod"
   },
   "outputs": [],
   "source": [
    "import re\n",
    "import json\n",
    "import pprint"
   ]
  },
  {
   "cell_type": "code",
   "execution_count": 161,
   "metadata": {},
   "outputs": [],
   "source": [
    "db_instance_name = \"34.68.236.87\"\n",
    "db_user = 'root'\n",
    "db_pwd = 'safetravels_pwd'"
   ]
  },
  {
   "cell_type": "code",
   "execution_count": 162,
   "metadata": {
    "id": "iTsuF-ZOOqNa"
   },
   "outputs": [],
   "source": [
    "def get_countries():\n",
    "  url = 'https://restcountries.com/v3.1/all'\n",
    "  countries = requests.get(url, allow_redirects = True)\n",
    "  raw_countries = countries.text\n",
    "  return raw_countries"
   ]
  },
  {
   "cell_type": "code",
   "execution_count": 163,
   "metadata": {
    "id": "0cXytnQ5RSyj"
   },
   "outputs": [],
   "source": [
    "def process_raw_countries(raw_countries):\n",
    "  countries = []\n",
    "  countries_json = json.loads(raw_countries)\n",
    "  for country in countries_json:\n",
    "    countries.append(country['name']['common'])\n",
    "  return countries"
   ]
  },
  {
   "cell_type": "code",
   "execution_count": 164,
   "metadata": {},
   "outputs": [],
   "source": [
    "import mysql.connector\n",
    "def get_connection():\n",
    "    try:\n",
    "        '''cnx = mysql.connector.connect(user='safetravels_user', password='safetravels_pwd',\n",
    "                                  host='localhost',\n",
    "                                  database='safetravels')'''\n",
    "        cnx = mysql.connector.connect(user = db_user, password = db_pwd,\n",
    "                                  host = db_instance_name,\n",
    "                                  database='safetravels')\n",
    "    except mysql.connector.Error as err:\n",
    "        if err.errno == errorcode.ER_ACCESS_DENIED_ERROR:\n",
    "            print(\"Something is wrong with your user name or password\")\n",
    "        elif err.errno == errorcode.ER_BAD_DB_ERROR:\n",
    "            print(\"Database does not exist\")\n",
    "        else:\n",
    "            print(err)\n",
    "    return cnx\n",
    "\n",
    "def close_connection(cnx):\n",
    "    cnx.close()"
   ]
  },
  {
   "cell_type": "code",
   "execution_count": 165,
   "metadata": {},
   "outputs": [],
   "source": [
    "def add_countries():\n",
    "    cnx = None\n",
    "    try:\n",
    "        raw_countries = get_countries()\n",
    "        countries_list = process_raw_countries(raw_countries = raw_countries)\n",
    "        cnx = get_connection()\n",
    "        cursor = cnx.cursor()\n",
    "        add_country = \"insert into Countries (CountryName, AlternateName) values (%s, %s);\"\n",
    "        for country in countries_list:\n",
    "            data_country = (country, country)\n",
    "            cursor.execute(add_country, data_country)\n",
    "            country_id = cursor.lastrowid\n",
    "            cnx.commit()\n",
    "    except Exception as e:\n",
    "        logging.error(traceback.format_exc())\n",
    "    finally:\n",
    "        if cnx != None:\n",
    "            close_connection(cnx)"
   ]
  },
  {
   "cell_type": "code",
   "execution_count": 166,
   "metadata": {},
   "outputs": [],
   "source": [
    "error_countries = set()"
   ]
  },
  {
   "cell_type": "code",
   "execution_count": 167,
   "metadata": {},
   "outputs": [],
   "source": [
    "add_countries()"
   ]
  },
  {
   "cell_type": "code",
   "execution_count": 168,
   "metadata": {},
   "outputs": [],
   "source": [
    "entry_requirements_failed_countries = set()"
   ]
  },
  {
   "cell_type": "code",
   "execution_count": 170,
   "metadata": {
    "colab": {
     "base_uri": "https://localhost:8080/"
    },
    "id": "Yrk570J4LZIJ",
    "outputId": "fb7b6308-912e-4ea1-8e0f-a49152734035"
   },
   "outputs": [],
   "source": [
    "def get_cdc_advises(country):\n",
    "    try:\n",
    "        url = f'https://wwwnc.cdc.gov/travel/notices/covid-4/coronavirus-{country}'\n",
    "        cdc_response = requests.get(url, allow_redirects = True)\n",
    "        cdc_object = soup(cdc_response.text, \"html.parser\")\n",
    "        assert cdc_object != None, f\"Error occured during parsing {get_cdc_advises.__name__}\"\n",
    "        notice = cdc_object.find(\"div\", class_ = re.compile(\"notice-typename.*\"))\n",
    "        #notice = entry_details.find('div') #, class_ = \"notice-typename-covid-4 p-2\")\n",
    "        if notice == None:\n",
    "            print()\n",
    "            print(f'Notice cannot be empty. Error country : {country}')\n",
    "            error_countries.add(country)\n",
    "            return None, None\n",
    "        notice = notice.text\n",
    "        advices = cdc_object.find(class_ = 'card-body')\n",
    "        list_items = advices.findAll('li')\n",
    "        return_advices = []\n",
    "        for a in list_items:\n",
    "          return_advices.append(a.text)\n",
    "        notice = notice.split(':')[0].split(' ')[1]\n",
    "        return notice, return_advices\n",
    "    except Exception as e:\n",
    "        error_countries.add(country)\n",
    "        print('Exception occured with country ' + country)\n",
    "        logging.error(traceback.format_exc())\n",
    "        return None, None\n",
    "\n",
    "def get_countries():\n",
    "    country_list = []\n",
    "    refined_country_list = []\n",
    "    cnx = get_connection()\n",
    "    cursor = cnx.cursor()\n",
    "    countries_query = \"select CountryName from Countries;\"\n",
    "    cursor.execute(countries_query)\n",
    "    for (CountryName) in cursor:\n",
    "        country = CountryName[0]\n",
    "        temp_countries = country.split(' ')\n",
    "        temp_countries = [a.lower() for a in temp_countries]\n",
    "        refined_country = '-'.join(temp_countries)\n",
    "        country_list.append(CountryName[0])\n",
    "        refined_country_list.append(refined_country)\n",
    "    return country_list, refined_country_list\n",
    "\n",
    "def process_string(text):\n",
    "  return text.replace('\\n', '').replace('\\r', '')\n",
    "\n",
    "def get_entry_requirements(country):\n",
    "    try:\n",
    "        url = f\"https://www.kayak.com/travel-restrictions/{country}\"\n",
    "        kayak_response = requests.get(url, allow_redirects = True)\n",
    "        #print(kayak_response.text)\n",
    "        kayak_object = soup(kayak_response.text, \"html.parser\")\n",
    "        assert kayak_object != None, f\"Error occured during parsing {get_entry_requirements.__name__}\"\n",
    "        entry_details = kayak_object.find(\"div\", {\"id\": re.compile(\".*entry details and exceptions\")})\n",
    "        all_tags = None\n",
    "        if entry_details == None:\n",
    "            #Error handling try other mechanism\n",
    "            entry_details = kayak_object.find(\"div\", string = re.compile(\".*entry details and exceptions\", re.IGNORECASE))\n",
    "        if entry_details == None:\n",
    "            border_status_data_div = kayak_object.find(\"div\", {\"class\" : \"c_pkR-border-status-data\"})\n",
    "            if border_status_data_div != None:\n",
    "                entry_details = border_status_data_div.div\n",
    "                if entry_details != None:\n",
    "                    all_tags = entry_details.div\n",
    "                else:\n",
    "                    entry_requirements_failed_countries.add(country)\n",
    "                    print(f\"All retry mechanism failed for country {country}\")\n",
    "                    return None\n",
    "            else:\n",
    "                entry_requirements_failed_countries.add(country)\n",
    "                print(f\"All retry mechanism failed for country {country}\")\n",
    "                return None\n",
    "        if all_tags == None:\n",
    "            all_tags = entry_details.parent.div\n",
    "        unprocessed_tags = all_tags.find_all('p')\n",
    "        hyper_link_tags = all_tags.find_all('a')\n",
    "        #Remove hyperlinks\n",
    "        for hyper_link in hyper_link_tags:\n",
    "            hyper_link.extract()\n",
    "        paragraph_tags = all_tags.find_all('p')\n",
    "        paragraphs = [process_string(paragraph.text) for paragraph in paragraph_tags]\n",
    "        return paragraphs\n",
    "    except Exception as e:\n",
    "        entry_requirements_failed_countries.add(country)\n",
    "        print('Exception occured with country ' + country)\n",
    "        logging.error(traceback.format_exc())\n",
    "        return None"
   ]
  },
  {
   "cell_type": "code",
   "execution_count": 171,
   "metadata": {},
   "outputs": [],
   "source": [
    "def get_country_id(country):\n",
    "    sql = f'select CountryID from Countries where CountryName = %s'\n",
    "    cnx = get_connection()\n",
    "    cursor = cnx.cursor()\n",
    "    result = cursor.execute(sql, (country,), multi=True)\n",
    "    countryID = None\n",
    "    for r in result:\n",
    "        rows = r.fetchall()\n",
    "        countryID = rows[0][0]\n",
    "        break\n",
    "    return countryID"
   ]
  },
  {
   "cell_type": "code",
   "execution_count": 178,
   "metadata": {},
   "outputs": [],
   "source": [
    "def fill_advisories(level_name, country_id, sub_advices):\n",
    "    cnx = None\n",
    "    try:\n",
    "        add_advice_sql = \"insert into Advisory (LevelName, CountryID) values (%s, %s);\"\n",
    "        cnx = get_connection()\n",
    "        cursor = cnx.cursor()\n",
    "        cursor.execute(add_advice_sql, (level_name, country_id))\n",
    "        advice_id = cursor.lastrowid\n",
    "        for sub_advice in sub_advices:\n",
    "            add_subadvice_sql = \"insert into SubAdvisory (SubAdvisoryText, AdvisoryID) values (%s, %s)\"\n",
    "            cursor.execute(add_subadvice_sql, (sub_advice, advice_id))\n",
    "        cnx.commit()\n",
    "        print('advice id', advice_id)\n",
    "    except Exception as e:\n",
    "        logging.error(traceback.format_exc())\n",
    "    finally:\n",
    "        if cnx != None:\n",
    "            close_connection(cnx)\n",
    "\n",
    "def fill_requirements(requirements, country_id):\n",
    "    cnx = None\n",
    "    try:\n",
    "        for r in requirements:\n",
    "            add_requirements_sql = \"insert into EntryRequirements (EntryText, CountryID) values (%s, %s);\"\n",
    "            cnx = get_connection()\n",
    "            cursor = cnx.cursor()\n",
    "            cursor.execute(add_requirements_sql, (r, country_id))\n",
    "        cnx.commit()\n",
    "    except Exception as e:\n",
    "        logging.error(traceback.format_exc())\n",
    "    finally:\n",
    "        if cnx != None:\n",
    "            close_connection(cnx)"
   ]
  },
  {
   "cell_type": "code",
   "execution_count": 179,
   "metadata": {},
   "outputs": [],
   "source": [
    "advisory_failed_countries = set()"
   ]
  },
  {
   "cell_type": "code",
   "execution_count": 180,
   "metadata": {},
   "outputs": [],
   "source": [
    "def populate_advisories():\n",
    "    country_list, refined_country_list = get_countries()\n",
    "    for country, refined_country in zip(country_list, refined_country_list):\n",
    "        level, sub_advices = get_cdc_advises(refined_country)\n",
    "        country_id = get_country_id(country)\n",
    "        if level == None:\n",
    "            print('Level cannot be None')\n",
    "            print('Country', country)\n",
    "            advisory_failed_countries.add(country)\n",
    "            continue\n",
    "        if country_id == None:\n",
    "            advisory_failed_countries.add(country)\n",
    "            print(f\"Failed to populate advisory for {country}\")\n",
    "            continue\n",
    "        fill_advisories(level, country_id, sub_advices)\n",
    "\n",
    "def populate_requirements():\n",
    "    country_list, refined_country_list = get_countries()\n",
    "    for country, refined_country in zip(country_list, refined_country_list):\n",
    "        requirements = get_entry_requirements(refined_country)\n",
    "        if requirements != None:\n",
    "            country_id = get_country_id(country)\n",
    "            fill_requirements(requirements, country_id)"
   ]
  },
  {
   "cell_type": "code",
   "execution_count": 175,
   "metadata": {},
   "outputs": [
    {
     "name": "stdout",
     "output_type": "stream",
     "text": [
      "advice id 1\n",
      "\n",
      "Notice cannot be empty. Error country : åland-islands\n",
      "Level cannot be None\n",
      "Country Åland Islands\n",
      "advice id 2\n",
      "advice id 3\n",
      "\n",
      "Notice cannot be empty. Error country : american-samoa\n",
      "Level cannot be None\n",
      "Country American Samoa\n",
      "advice id 4\n",
      "advice id 5\n",
      "advice id 6\n",
      "advice id 7\n",
      "advice id 8\n",
      "advice id 9\n",
      "advice id 10\n",
      "advice id 11\n",
      "advice id 12\n",
      "advice id 13\n",
      "advice id 14\n",
      "\n",
      "Notice cannot be empty. Error country : bahamas\n",
      "Level cannot be None\n",
      "Country Bahamas\n",
      "advice id 15\n",
      "advice id 16\n",
      "advice id 17\n",
      "advice id 18\n",
      "advice id 19\n",
      "advice id 20\n",
      "advice id 21\n",
      "advice id 22\n",
      "advice id 23\n",
      "advice id 24\n",
      "advice id 25\n",
      "advice id 26\n",
      "\n",
      "Notice cannot be empty. Error country : bouvet-island\n",
      "Level cannot be None\n",
      "Country Bouvet Island\n",
      "advice id 27\n"
     ]
    },
    {
     "name": "stderr",
     "output_type": "stream",
     "text": [
      "ERROR:root:Traceback (most recent call last):\n",
      "  File \"/var/folders/_5/4xl0ylmn6vz97z82pd3c33g00000gn/T/ipykernel_40147/2280650305.py\", line 20, in get_cdc_advises\n",
      "    notice = notice.split(':')[0].split(' ')[1]\n",
      "IndexError: list index out of range\n",
      "\n"
     ]
    },
    {
     "name": "stdout",
     "output_type": "stream",
     "text": [
      "Exception occured with country british-indian-ocean-territory\n",
      "Level cannot be None\n",
      "Country British Indian Ocean Territory\n",
      "advice id 28\n",
      "advice id 29\n",
      "advice id 30\n",
      "advice id 31\n",
      "advice id 32\n",
      "advice id 33\n",
      "advice id 34\n",
      "advice id 35\n",
      "advice id 36\n",
      "\n",
      "Notice cannot be empty. Error country : caribbean-netherlands\n",
      "Level cannot be None\n",
      "Country Caribbean Netherlands\n",
      "advice id 37\n",
      "advice id 38\n",
      "advice id 39\n",
      "advice id 40\n",
      "advice id 41\n",
      "advice id 42\n",
      "\n",
      "Notice cannot be empty. Error country : cocos-(keeling)-islands\n",
      "Level cannot be None\n",
      "Country Cocos (Keeling) Islands\n",
      "advice id 43\n",
      "advice id 44\n",
      "advice id 45\n",
      "advice id 46\n",
      "advice id 47\n",
      "advice id 48\n",
      "\n",
      "Notice cannot be empty. Error country : curaçao\n",
      "Level cannot be None\n",
      "Country Curaçao\n",
      "advice id 49\n",
      "\n",
      "Notice cannot be empty. Error country : czechia\n",
      "Level cannot be None\n",
      "Country Czechia\n",
      "advice id 50\n",
      "advice id 51\n",
      "advice id 52\n",
      "advice id 53\n",
      "\n",
      "Notice cannot be empty. Error country : dr-congo\n",
      "Level cannot be None\n",
      "Country DR Congo\n",
      "advice id 54\n",
      "advice id 55\n",
      "advice id 56\n",
      "advice id 57\n",
      "advice id 58\n",
      "advice id 59\n",
      "advice id 60\n",
      "advice id 61\n",
      "advice id 62\n",
      "advice id 63\n",
      "advice id 64\n",
      "advice id 65\n",
      "advice id 66\n",
      "advice id 67\n",
      "advice id 68\n",
      "\n",
      "Notice cannot be empty. Error country : french-southern-and-antarctic-lands\n",
      "Level cannot be None\n",
      "Country French Southern and Antarctic Lands\n",
      "advice id 69\n",
      "\n",
      "Notice cannot be empty. Error country : gambia\n",
      "Level cannot be None\n",
      "Country Gambia\n",
      "advice id 70\n",
      "advice id 71\n",
      "advice id 72\n",
      "advice id 73\n",
      "advice id 74\n",
      "advice id 75\n",
      "advice id 76\n",
      "advice id 77\n",
      "\n",
      "Notice cannot be empty. Error country : guam\n",
      "Level cannot be None\n",
      "Country Guam\n",
      "advice id 78\n",
      "advice id 79\n",
      "advice id 80\n",
      "advice id 81\n",
      "advice id 82\n",
      "advice id 83\n",
      "\n",
      "Notice cannot be empty. Error country : heard-island-and-mcdonald-islands\n",
      "Level cannot be None\n",
      "Country Heard Island and McDonald Islands\n",
      "advice id 84\n",
      "advice id 85\n",
      "advice id 86\n",
      "advice id 87\n",
      "advice id 88\n",
      "advice id 89\n",
      "advice id 90\n",
      "advice id 91\n",
      "advice id 92\n",
      "advice id 93\n",
      "advice id 94\n",
      "advice id 95\n",
      "advice id 96\n",
      "advice id 97\n",
      "advice id 98\n",
      "advice id 99\n",
      "advice id 100\n",
      "advice id 101\n",
      "advice id 102\n",
      "advice id 103\n",
      "advice id 104\n",
      "advice id 105\n",
      "advice id 106\n",
      "advice id 107\n",
      "advice id 108\n",
      "advice id 109\n",
      "advice id 110\n",
      "advice id 111\n",
      "advice id 112\n",
      "advice id 113\n",
      "advice id 114\n",
      "advice id 115\n",
      "advice id 116\n",
      "advice id 117\n",
      "advice id 118\n",
      "advice id 119\n",
      "advice id 120\n",
      "advice id 121\n",
      "advice id 122\n",
      "\n",
      "Notice cannot be empty. Error country : marshall-islands\n",
      "Level cannot be None\n",
      "Country Marshall Islands\n",
      "advice id 123\n",
      "advice id 124\n",
      "advice id 125\n",
      "advice id 126\n",
      "advice id 127\n",
      "\n",
      "Notice cannot be empty. Error country : micronesia\n",
      "Level cannot be None\n",
      "Country Micronesia\n",
      "advice id 128\n",
      "advice id 129\n",
      "advice id 130\n",
      "advice id 131\n",
      "advice id 132\n",
      "advice id 133\n",
      "advice id 134\n",
      "\n",
      "Notice cannot be empty. Error country : myanmar\n",
      "Level cannot be None\n",
      "Country Myanmar\n",
      "advice id 135\n",
      "advice id 136\n",
      "advice id 137\n",
      "advice id 138\n",
      "advice id 139\n",
      "advice id 140\n",
      "advice id 141\n",
      "advice id 142\n",
      "advice id 143\n",
      "advice id 144\n",
      "advice id 145\n",
      "advice id 146\n",
      "advice id 147\n",
      "\n",
      "Notice cannot be empty. Error country : northern-mariana-islands\n",
      "Level cannot be None\n",
      "Country Northern Mariana Islands\n",
      "advice id 148\n",
      "advice id 149\n",
      "advice id 150\n",
      "\n",
      "Notice cannot be empty. Error country : palau\n",
      "Level cannot be None\n",
      "Country Palau\n",
      "\n",
      "Notice cannot be empty. Error country : palestine\n",
      "Level cannot be None\n",
      "Country Palestine\n",
      "advice id 151\n",
      "advice id 152\n",
      "advice id 153\n",
      "advice id 154\n",
      "advice id 155\n",
      "advice id 156\n",
      "advice id 157\n",
      "advice id 158\n",
      "\n",
      "Notice cannot be empty. Error country : puerto-rico\n",
      "Level cannot be None\n",
      "Country Puerto Rico\n",
      "advice id 159\n",
      "\n",
      "Notice cannot be empty. Error country : republic-of-the-congo\n",
      "Level cannot be None\n",
      "Country Republic of the Congo\n",
      "\n",
      "Notice cannot be empty. Error country : réunion\n",
      "Level cannot be None\n",
      "Country Réunion\n",
      "advice id 160\n",
      "advice id 161\n",
      "advice id 162\n",
      "\n",
      "Notice cannot be empty. Error country : saint-barthélemy\n",
      "Level cannot be None\n",
      "Country Saint Barthélemy\n",
      "\n",
      "Notice cannot be empty. Error country : saint-helena,-ascension-and-tristan-da-cunha\n",
      "Level cannot be None\n",
      "Country Saint Helena, Ascension and Tristan da Cunha\n",
      "\n",
      "Notice cannot be empty. Error country : saint-kitts-and-nevis\n",
      "Level cannot be None\n",
      "Country Saint Kitts and Nevis\n",
      "advice id 163\n",
      "advice id 164\n",
      "advice id 165\n",
      "advice id 166\n",
      "advice id 167\n",
      "advice id 168\n",
      "\n",
      "Notice cannot be empty. Error country : são-tomé-and-príncipe\n",
      "Level cannot be None\n",
      "Country São Tomé and Príncipe\n",
      "advice id 169\n",
      "advice id 170\n",
      "advice id 171\n",
      "advice id 172\n",
      "advice id 173\n",
      "advice id 174\n",
      "advice id 175\n",
      "advice id 176\n",
      "advice id 177\n",
      "advice id 178\n",
      "advice id 179\n",
      "advice id 180\n",
      "\n",
      "Notice cannot be empty. Error country : south-georgia\n",
      "Level cannot be None\n",
      "Country South Georgia\n",
      "advice id 181\n",
      "advice id 182\n",
      "advice id 183\n",
      "advice id 184\n",
      "advice id 185\n",
      "advice id 186\n",
      "\n",
      "Notice cannot be empty. Error country : svalbard-and-jan-mayen\n",
      "Level cannot be None\n",
      "Country Svalbard and Jan Mayen\n",
      "advice id 187\n",
      "advice id 188\n",
      "advice id 189\n",
      "advice id 190\n",
      "advice id 191\n",
      "advice id 192\n",
      "advice id 193\n",
      "advice id 194\n",
      "advice id 195\n",
      "advice id 196\n",
      "advice id 197\n",
      "advice id 198\n",
      "advice id 199\n",
      "advice id 200\n",
      "advice id 201\n",
      "\n",
      "Notice cannot be empty. Error country : turks-and-caicos-islands\n",
      "Level cannot be None\n",
      "Country Turks and Caicos Islands\n",
      "advice id 202\n",
      "advice id 203\n",
      "advice id 204\n",
      "advice id 205\n",
      "advice id 206\n",
      "\n",
      "Notice cannot be empty. Error country : united-states\n",
      "Level cannot be None\n",
      "Country United States\n",
      "\n",
      "Notice cannot be empty. Error country : united-states-minor-outlying-islands\n",
      "Level cannot be None\n",
      "Country United States Minor Outlying Islands\n",
      "\n",
      "Notice cannot be empty. Error country : united-states-virgin-islands\n",
      "Level cannot be None\n",
      "Country United States Virgin Islands\n",
      "advice id 207\n",
      "advice id 208\n",
      "advice id 209\n",
      "\n",
      "Notice cannot be empty. Error country : vatican-city\n",
      "Level cannot be None\n",
      "Country Vatican City\n",
      "advice id 210\n",
      "advice id 211\n",
      "\n",
      "Notice cannot be empty. Error country : wallis-and-futuna\n",
      "Level cannot be None\n",
      "Country Wallis and Futuna\n"
     ]
    },
    {
     "name": "stderr",
     "output_type": "stream",
     "text": [
      "ERROR:root:Traceback (most recent call last):\n",
      "  File \"/var/folders/_5/4xl0ylmn6vz97z82pd3c33g00000gn/T/ipykernel_40147/2280650305.py\", line 20, in get_cdc_advises\n",
      "    notice = notice.split(':')[0].split(' ')[1]\n",
      "IndexError: list index out of range\n",
      "\n"
     ]
    },
    {
     "name": "stdout",
     "output_type": "stream",
     "text": [
      "Exception occured with country western-sahara\n",
      "Level cannot be None\n",
      "Country Western Sahara\n",
      "advice id 212\n",
      "advice id 213\n",
      "advice id 214\n"
     ]
    }
   ],
   "source": [
    "populate_advisories()"
   ]
  },
  {
   "cell_type": "markdown",
   "metadata": {},
   "source": [
    "TODO : Fix infromation for these countries"
   ]
  },
  {
   "cell_type": "code",
   "execution_count": 176,
   "metadata": {},
   "outputs": [
    {
     "data": {
      "text/plain": [
       "{'American Samoa',\n",
       " 'Bahamas',\n",
       " 'Bouvet Island',\n",
       " 'British Indian Ocean Territory',\n",
       " 'Caribbean Netherlands',\n",
       " 'Cocos (Keeling) Islands',\n",
       " 'Curaçao',\n",
       " 'Czechia',\n",
       " 'DR Congo',\n",
       " 'French Southern and Antarctic Lands',\n",
       " 'Gambia',\n",
       " 'Guam',\n",
       " 'Heard Island and McDonald Islands',\n",
       " 'Marshall Islands',\n",
       " 'Micronesia',\n",
       " 'Myanmar',\n",
       " 'Northern Mariana Islands',\n",
       " 'Palau',\n",
       " 'Palestine',\n",
       " 'Puerto Rico',\n",
       " 'Republic of the Congo',\n",
       " 'Réunion',\n",
       " 'Saint Barthélemy',\n",
       " 'Saint Helena, Ascension and Tristan da Cunha',\n",
       " 'Saint Kitts and Nevis',\n",
       " 'South Georgia',\n",
       " 'Svalbard and Jan Mayen',\n",
       " 'São Tomé and Príncipe',\n",
       " 'Turks and Caicos Islands',\n",
       " 'United States',\n",
       " 'United States Minor Outlying Islands',\n",
       " 'United States Virgin Islands',\n",
       " 'Vatican City',\n",
       " 'Wallis and Futuna',\n",
       " 'Western Sahara',\n",
       " 'Åland Islands'}"
      ]
     },
     "execution_count": 176,
     "metadata": {},
     "output_type": "execute_result"
    }
   ],
   "source": [
    "advisory_failed_countries"
   ]
  },
  {
   "cell_type": "code",
   "execution_count": 181,
   "metadata": {},
   "outputs": [
    {
     "name": "stdout",
     "output_type": "stream",
     "text": [
      "All retry mechanism failed for country åland-islands\n",
      "All retry mechanism failed for country algeria\n",
      "All retry mechanism failed for country andorra\n",
      "All retry mechanism failed for country angola\n",
      "All retry mechanism failed for country antarctica\n",
      "All retry mechanism failed for country belarus\n",
      "All retry mechanism failed for country bouvet-island\n",
      "All retry mechanism failed for country british-indian-ocean-territory\n",
      "All retry mechanism failed for country burundi\n",
      "All retry mechanism failed for country caribbean-netherlands\n",
      "All retry mechanism failed for country central-african-republic\n",
      "All retry mechanism failed for country christmas-island\n",
      "All retry mechanism failed for country cocos-(keeling)-islands\n",
      "All retry mechanism failed for country comoros\n",
      "All retry mechanism failed for country curaçao\n",
      "All retry mechanism failed for country czechia\n",
      "All retry mechanism failed for country dr-congo\n",
      "All retry mechanism failed for country eswatini\n",
      "All retry mechanism failed for country ethiopia\n",
      "All retry mechanism failed for country falkland-islands\n",
      "All retry mechanism failed for country french-southern-and-antarctic-lands\n",
      "All retry mechanism failed for country greece\n",
      "All retry mechanism failed for country guernsey\n",
      "All retry mechanism failed for country guinea-bissau\n",
      "All retry mechanism failed for country haiti\n",
      "All retry mechanism failed for country heard-island-and-mcdonald-islands\n",
      "All retry mechanism failed for country iraq\n",
      "All retry mechanism failed for country isle-of-man\n",
      "All retry mechanism failed for country ivory-coast\n",
      "All retry mechanism failed for country kyrgyzstan\n",
      "All retry mechanism failed for country lesotho\n",
      "All retry mechanism failed for country libya\n",
      "All retry mechanism failed for country micronesia\n",
      "All retry mechanism failed for country monaco\n",
      "All retry mechanism failed for country niue\n",
      "All retry mechanism failed for country norfolk-island\n",
      "All retry mechanism failed for country north-korea\n",
      "All retry mechanism failed for country palestine\n",
      "All retry mechanism failed for country paraguay\n",
      "All retry mechanism failed for country pitcairn-islands\n",
      "All retry mechanism failed for country réunion\n",
      "All retry mechanism failed for country saint-barthélemy\n",
      "All retry mechanism failed for country saint-helena,-ascension-and-tristan-da-cunha\n",
      "All retry mechanism failed for country saint-pierre-and-miquelon\n",
      "All retry mechanism failed for country san-marino\n",
      "All retry mechanism failed for country são-tomé-and-príncipe\n",
      "All retry mechanism failed for country somalia\n",
      "All retry mechanism failed for country south-africa\n",
      "All retry mechanism failed for country south-georgia\n",
      "All retry mechanism failed for country sudan\n",
      "All retry mechanism failed for country svalbard-and-jan-mayen\n",
      "All retry mechanism failed for country sweden\n",
      "All retry mechanism failed for country tokelau\n",
      "All retry mechanism failed for country tuvalu\n",
      "All retry mechanism failed for country united-states-minor-outlying-islands\n",
      "All retry mechanism failed for country united-states-virgin-islands\n",
      "All retry mechanism failed for country vatican-city\n",
      "All retry mechanism failed for country western-sahara\n"
     ]
    }
   ],
   "source": [
    "populate_requirements()"
   ]
  },
  {
   "cell_type": "markdown",
   "metadata": {
    "id": "QPeIYB1JLiGQ"
   },
   "source": []
  }
 ],
 "metadata": {
  "colab": {
   "collapsed_sections": [],
   "name": "CovidDataScrapper.ipynb",
   "provenance": []
  },
  "kernelspec": {
   "display_name": "Python 3 (ipykernel)",
   "language": "python",
   "name": "python3"
  },
  "language_info": {
   "codemirror_mode": {
    "name": "ipython",
    "version": 3
   },
   "file_extension": ".py",
   "mimetype": "text/x-python",
   "name": "python",
   "nbconvert_exporter": "python",
   "pygments_lexer": "ipython3",
   "version": "3.9.12"
  }
 },
 "nbformat": 4,
 "nbformat_minor": 1
}
