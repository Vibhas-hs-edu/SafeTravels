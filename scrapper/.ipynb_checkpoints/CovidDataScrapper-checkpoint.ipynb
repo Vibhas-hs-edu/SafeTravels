{
 "cells": [
  {
   "cell_type": "code",
   "execution_count": 1,
   "metadata": {
    "colab": {
     "base_uri": "https://localhost:8080/"
    },
    "id": "ablZ6Ttjty5e",
    "outputId": "6befeb71-b704-439f-c735-980ea0eb552f"
   },
   "outputs": [
    {
     "name": "stdout",
     "output_type": "stream",
     "text": [
      "Requirement already satisfied: beautifulsoup4 in /opt/homebrew/Caskroom/miniforge/base/lib/python3.9/site-packages (4.11.1)\n",
      "Requirement already satisfied: soupsieve>1.2 in /opt/homebrew/Caskroom/miniforge/base/lib/python3.9/site-packages (from beautifulsoup4) (2.3.2.post1)\n",
      "Requirement already satisfied: lxml in /opt/homebrew/Caskroom/miniforge/base/lib/python3.9/site-packages (4.8.0)\n",
      "Requirement already satisfied: requests in /opt/homebrew/Caskroom/miniforge/base/lib/python3.9/site-packages (2.27.1)\n",
      "Requirement already satisfied: idna<4,>=2.5 in /opt/homebrew/Caskroom/miniforge/base/lib/python3.9/site-packages (from requests) (3.3)\n",
      "Requirement already satisfied: urllib3<1.27,>=1.21.1 in /opt/homebrew/Caskroom/miniforge/base/lib/python3.9/site-packages (from requests) (1.26.9)\n",
      "Requirement already satisfied: certifi>=2017.4.17 in /opt/homebrew/Caskroom/miniforge/base/lib/python3.9/site-packages (from requests) (2021.10.8)\n",
      "Requirement already satisfied: charset-normalizer~=2.0.0 in /opt/homebrew/Caskroom/miniforge/base/lib/python3.9/site-packages (from requests) (2.0.12)\n",
      "Requirement already satisfied: pandas in /opt/homebrew/Caskroom/miniforge/base/lib/python3.9/site-packages (1.4.2)\n",
      "Requirement already satisfied: python-dateutil>=2.8.1 in /opt/homebrew/Caskroom/miniforge/base/lib/python3.9/site-packages (from pandas) (2.8.2)\n",
      "Requirement already satisfied: pytz>=2020.1 in /opt/homebrew/Caskroom/miniforge/base/lib/python3.9/site-packages (from pandas) (2022.1)\n",
      "Requirement already satisfied: numpy>=1.20.0 in /opt/homebrew/Caskroom/miniforge/base/lib/python3.9/site-packages (from pandas) (1.22.3)\n",
      "Requirement already satisfied: six>=1.5 in /opt/homebrew/Caskroom/miniforge/base/lib/python3.9/site-packages (from python-dateutil>=2.8.1->pandas) (1.15.0)\n"
     ]
    }
   ],
   "source": [
    "!pip install beautifulsoup4\n",
    "!pip install lxml\n",
    "!pip install requests\n",
    "!pip install pandas"
   ]
  },
  {
   "cell_type": "code",
   "execution_count": 2,
   "metadata": {
    "colab": {
     "base_uri": "https://localhost:8080/"
    },
    "id": "nHrJ12TrT7E7",
    "outputId": "918a3525-ee99-465f-e6fe-bdd53c9a6d6f"
   },
   "outputs": [
    {
     "name": "stdout",
     "output_type": "stream",
     "text": [
      "Requirement already satisfied: mysql-connector-python in /opt/homebrew/Caskroom/miniforge/base/lib/python3.9/site-packages (8.0.29)\r\n",
      "Requirement already satisfied: protobuf>=3.0.0 in /opt/homebrew/Caskroom/miniforge/base/lib/python3.9/site-packages (from mysql-connector-python) (3.16.0)\r\n",
      "Requirement already satisfied: six>=1.9 in /opt/homebrew/Caskroom/miniforge/base/lib/python3.9/site-packages (from protobuf>=3.0.0->mysql-connector-python) (1.15.0)\r\n"
     ]
    }
   ],
   "source": [
    "!pip install mysql-connector-python"
   ]
  },
  {
   "cell_type": "code",
   "execution_count": 3,
   "metadata": {},
   "outputs": [],
   "source": [
    "import sys\n",
    "import traceback\n",
    "import logging\n",
    "\n",
    "sys.path.append('/opt/homebrew/Caskroom/miniforge/base/lib/python3.9/site-packages')"
   ]
  },
  {
   "cell_type": "code",
   "execution_count": 4,
   "metadata": {
    "colab": {
     "base_uri": "https://localhost:8080/"
    },
    "id": "WzMLE1jXt1B6",
    "outputId": "46cb6895-cefd-405d-d0b0-ce6bbc91ab3e"
   },
   "outputs": [
    {
     "name": "stdout",
     "output_type": "stream",
     "text": [
      "Succssfully imported libraries\n"
     ]
    }
   ],
   "source": [
    "from bs4 import BeautifulSoup\n",
    "import requests\n",
    "import os\n",
    "import csv\n",
    "import pandas as pd\n",
    "from datetime import datetime\n",
    "from bs4 import BeautifulSoup as soup\n",
    "\n",
    "print(\"Succssfully imported libraries\")"
   ]
  },
  {
   "cell_type": "code",
   "execution_count": 5,
   "metadata": {
    "colab": {
     "base_uri": "https://localhost:8080/"
    },
    "id": "m77jAWLPdfoC",
    "outputId": "5731afed-2772-4b4f-a4c7-ccb799fede1f"
   },
   "outputs": [
    {
     "data": {
      "text/plain": [
       "200"
      ]
     },
     "execution_count": 5,
     "metadata": {},
     "output_type": "execute_result"
    }
   ],
   "source": [
    "url = 'https://www.worldometers.info/coronavirus/'\n",
    "worldo_meter_response = requests.get(url, allow_redirects = True)\n",
    "worldo_meter_response.status_code"
   ]
  },
  {
   "cell_type": "code",
   "execution_count": 6,
   "metadata": {
    "id": "v8PbvoZRuuOM"
   },
   "outputs": [],
   "source": [
    "soup_response = soup(worldo_meter_response.text, \"html.parser\")"
   ]
  },
  {
   "cell_type": "code",
   "execution_count": 7,
   "metadata": {
    "id": "vkAXHIfZvhpO"
   },
   "outputs": [],
   "source": [
    "sections = soup_response(\"div\", id = \"maincounter-wrap\")"
   ]
  },
  {
   "cell_type": "code",
   "execution_count": 8,
   "metadata": {
    "id": "s8sZFf_8vzzk"
   },
   "outputs": [],
   "source": [
    "total_cases = sections[0].find('span').text.replace(\" \", \"\").replace(\",\", \"\")\n",
    "total_deaths = sections[1].find('span').text.replace(\" \", \"\").replace(\",\", \"\")\n",
    "total_recovered = sections[2].find('span').text.replace(\" \", \"\").replace(\",\", \"\")"
   ]
  },
  {
   "cell_type": "code",
   "execution_count": 9,
   "metadata": {
    "colab": {
     "base_uri": "https://localhost:8080/"
    },
    "id": "-PONfpsLv0m3",
    "outputId": "7a173cde-a8e0-4eb6-c822-48d11ede9b94"
   },
   "outputs": [
    {
     "name": "stdout",
     "output_type": "stream",
     "text": [
      "Total cases : 513501075\n",
      "Total deaths : 6261272\n",
      "Total recovered : 467505073\n"
     ]
    }
   ],
   "source": [
    "print(f'Total cases : {total_cases}')\n",
    "print(f'Total deaths : {total_deaths}')\n",
    "print(f'Total recovered : {total_recovered}')"
   ]
  },
  {
   "cell_type": "markdown",
   "metadata": {
    "id": "_EFVW8fMxLHH"
   },
   "source": [
    "Country specific covid data"
   ]
  },
  {
   "cell_type": "code",
   "execution_count": 10,
   "metadata": {
    "id": "aBqegKtLNQod"
   },
   "outputs": [],
   "source": [
    "import re\n",
    "import json\n",
    "import pprint"
   ]
  },
  {
   "cell_type": "code",
   "execution_count": 11,
   "metadata": {
    "id": "iTsuF-ZOOqNa"
   },
   "outputs": [],
   "source": [
    "def get_countries():\n",
    "  url = 'https://restcountries.com/v3.1/all'\n",
    "  countries = requests.get(url, allow_redirects = True)\n",
    "  raw_countries = countries.text\n",
    "  return raw_countries"
   ]
  },
  {
   "cell_type": "code",
   "execution_count": 12,
   "metadata": {
    "id": "0cXytnQ5RSyj"
   },
   "outputs": [],
   "source": [
    "def process_raw_countries(raw_countries):\n",
    "  countries = []\n",
    "  countries_json = json.loads(raw_countries)\n",
    "  for country in countries_json:\n",
    "    countries.append(country['name']['common'])\n",
    "  return countries"
   ]
  },
  {
   "cell_type": "code",
   "execution_count": 13,
   "metadata": {},
   "outputs": [],
   "source": [
    "import mysql.connector\n",
    "def get_connection():\n",
    "    try:\n",
    "        cnx = mysql.connector.connect(user='safetravels_user', password='safetravels_pwd',\n",
    "                                  host='localhost',\n",
    "                                  database='safetravels')\n",
    "    except mysql.connector.Error as err:\n",
    "        if err.errno == errorcode.ER_ACCESS_DENIED_ERROR:\n",
    "            print(\"Something is wrong with your user name or password\")\n",
    "        elif err.errno == errorcode.ER_BAD_DB_ERROR:\n",
    "            print(\"Database does not exist\")\n",
    "        else:\n",
    "            print(err)\n",
    "    return cnx\n",
    "\n",
    "def close_connection(cnx):\n",
    "    cnx.close()"
   ]
  },
  {
   "cell_type": "code",
   "execution_count": 14,
   "metadata": {},
   "outputs": [],
   "source": [
    "def add_countries():\n",
    "    cnx = None\n",
    "    try:\n",
    "        raw_countries = get_countries()\n",
    "        countries_list = process_raw_countries(raw_countries = raw_countries)\n",
    "        cnx = get_connection()\n",
    "        cursor = cnx.cursor()\n",
    "        add_country = \"insert into Countries (CountryName, AlternateName) values (%s, %s);\"\n",
    "        for country in countries_list:\n",
    "            data_country = (country, country)\n",
    "            cursor.execute(add_country, data_country)\n",
    "            country_id = cursor.lastrowid\n",
    "            cnx.commit()\n",
    "    except Exception as e:\n",
    "        logging.error(traceback.format_exc())\n",
    "    finally:\n",
    "        if cnx != None:\n",
    "            close_connection(cnx)"
   ]
  },
  {
   "cell_type": "code",
   "execution_count": 15,
   "metadata": {},
   "outputs": [],
   "source": [
    "error_countries = set()"
   ]
  },
  {
   "cell_type": "code",
   "execution_count": 16,
   "metadata": {},
   "outputs": [],
   "source": [
    "add_countries()"
   ]
  },
  {
   "cell_type": "code",
   "execution_count": 17,
   "metadata": {
    "colab": {
     "base_uri": "https://localhost:8080/"
    },
    "id": "Yrk570J4LZIJ",
    "outputId": "fb7b6308-912e-4ea1-8e0f-a49152734035"
   },
   "outputs": [],
   "source": [
    "def get_cdc_advises(country):\n",
    "    try:\n",
    "        url = f'https://wwwnc.cdc.gov/travel/notices/covid-4/coronavirus-{country}'\n",
    "        cdc_response = requests.get(url, allow_redirects = True)\n",
    "        cdc_object = soup(cdc_response.text, \"html.parser\")\n",
    "        assert cdc_object != None, f\"Error occured during parsing {get_cdc_advises.__name__}\"\n",
    "        notice = cdc_object.find(\"div\", class_ = re.compile(\"notice-typename.*\"))\n",
    "        #notice = entry_details.find('div') #, class_ = \"notice-typename-covid-4 p-2\")\n",
    "        if notice == None:\n",
    "            print()\n",
    "            print(f'Notice cannot be empty. Error country : {country}')\n",
    "            error_countries.add(country)\n",
    "            return None, None\n",
    "        notice = notice.text\n",
    "        advices = cdc_object.find(class_ = 'card-body')\n",
    "        list_items = advices.findAll('li')\n",
    "        return_advices = []\n",
    "        for a in list_items:\n",
    "          return_advices.append(a.text)\n",
    "        notice = notice.split(':')[0].split(' ')[1]\n",
    "        return notice, return_advices\n",
    "    except Exception as e:\n",
    "        error_countries.add(country)\n",
    "        print('Exception occured with country ' + country)\n",
    "        logging.error(traceback.format_exc())\n",
    "        return None, None\n",
    "\n",
    "def get_countries():\n",
    "    country_list = []\n",
    "    refined_country_list = []\n",
    "    cnx = get_connection()\n",
    "    cursor = cnx.cursor()\n",
    "    countries_query = \"select CountryName from Countries;\"\n",
    "    cursor.execute(countries_query)\n",
    "    for (CountryName) in cursor:\n",
    "        country = CountryName[0]\n",
    "        temp_countries = country.split(' ')\n",
    "        temp_countries = [a.lower() for a in temp_countries]\n",
    "        refined_country = '-'.join(temp_countries)\n",
    "        country_list.append(CountryName[0])\n",
    "        refined_country_list.append(refined_country)\n",
    "    return country_list, refined_country_list"
   ]
  },
  {
   "cell_type": "code",
   "execution_count": 18,
   "metadata": {},
   "outputs": [],
   "source": [
    "def get_country_id(country):\n",
    "    sql = f'select CountryID from Countries where CountryName = %s'\n",
    "    cnx = get_connection()\n",
    "    cursor = cnx.cursor()\n",
    "    result = cursor.execute(sql, (country,), multi=True)\n",
    "    countryID = None\n",
    "    for r in result:\n",
    "        rows = r.fetchall()\n",
    "        countryID = rows[0][0]\n",
    "        break\n",
    "    return countryID"
   ]
  },
  {
   "cell_type": "code",
   "execution_count": 23,
   "metadata": {},
   "outputs": [],
   "source": [
    "def fill_advisories(country_id, notice, advices):\n",
    "    cnx = None\n",
    "    try:\n",
    "        add_advice_sql = \"insert into Advisory (LevelName, CountryID) values (%s, %s);\"\n",
    "        cnx = get_connection()\n",
    "        cursor = cnx.cursor()\n",
    "        result = cursor.execute(add_advice_sql, (notice, country_id))\n",
    "        print(result)\n",
    "        advice_id = result.lastrowid\n",
    "        print('advice id', advice_id)\n",
    "    except Exception as e:\n",
    "        logging.error(traceback.format_exc())\n",
    "    finally:\n",
    "        if cnx != None:\n",
    "            close_connection(cnx)"
   ]
  },
  {
   "cell_type": "code",
   "execution_count": 24,
   "metadata": {},
   "outputs": [
    {
     "name": "stderr",
     "output_type": "stream",
     "text": [
      "ERROR:root:Traceback (most recent call last):\n",
      "  File \"/var/folders/_5/4xl0ylmn6vz97z82pd3c33g00000gn/T/ipykernel_767/2537133910.py\", line 9, in fill_advisories\n",
      "    advice_id = result.lastrowid\n",
      "AttributeError: 'NoneType' object has no attribute 'lastrowid'\n",
      "\n"
     ]
    },
    {
     "name": "stdout",
     "output_type": "stream",
     "text": [
      "None\n"
     ]
    }
   ],
   "source": [
    "fill_advisories(8, \"Level4\", [])"
   ]
  },
  {
   "cell_type": "code",
   "execution_count": 39,
   "metadata": {},
   "outputs": [],
   "source": [
    "def populate_advisories():\n",
    "    country_list, refined_country_list = get_countries()\n",
    "    for i, country in enumerate(refined_country_list):\n",
    "        notice, advices = get_cdc_advises(country)\n",
    "        country_id = get_country_id(\"Uruguay\")\n",
    "        assert country_id != None, \"Country ID is None\"\n",
    "        print(notice)\n",
    "        print(advices)\n",
    "        if i > 10:\n",
    "            break\n",
    "            "
   ]
  },
  {
   "cell_type": "code",
   "execution_count": 57,
   "metadata": {},
   "outputs": [
    {
     "data": {
      "text/plain": [
       "8"
      ]
     },
     "execution_count": 57,
     "metadata": {},
     "output_type": "execute_result"
    }
   ],
   "source": [
    "get_country_id(\"Uruguay\")"
   ]
  },
  {
   "cell_type": "code",
   "execution_count": 61,
   "metadata": {},
   "outputs": [
    {
     "name": "stdout",
     "output_type": "stream",
     "text": [
      "Unknown\n",
      "['Make sure you are up to date with your COVID-19 vaccines before traveling to Afghanistan.', 'If you are not up to date with your COVID-19 vaccines, avoid travel to Afghanistan.', 'Even if you are up to date with your COVID-19 vaccines, you may still be at risk for getting and spreading COVID-19.', 'Anyone 2 years or older should properly wear a well-fitting mask in indoor public spaces.', 'If you have a weakened immune system or are at increased risk for severe disease, even if you are up to date with your COVID-19 vaccines, talk with your clinician about your risk, and consider delaying travel to Afghanistan.', 'Follow all requirements and recommendations\\xa0in Afghanistan.']\n",
      "\n",
      "Notice cannot be empty. Error country : åland-islands\n",
      "None\n",
      "None\n",
      "3\n",
      "['Make sure you are up to date with your COVID-19 vaccines before traveling to Albania.', 'If you are not up to date with your COVID-19 vaccines, avoid travel to Albania.', 'Even if you are up to date with your COVID-19 vaccines, you may still be at risk for getting and spreading COVID-19.', 'Anyone 2 years or older should properly wear a well-fitting mask in indoor public spaces.', 'If you have a weakened immune system or are at increased risk for severe disease, even if you are up to date with your COVID-19 vaccines, talk with your clinician about your risk, and consider delaying travel to Albania.', 'Follow all requirements and\\xa0recommendations\\xa0in Albania.']\n",
      "Unknown\n",
      "['Make sure you are up to date with your COVID-19 vaccines before traveling to Algeria.', 'If you are not up to date with your COVID-19 vaccines, avoid travel to Algeria.', 'Even if you are up to date with your COVID-19 vaccines, you may still be at risk for getting and spreading COVID-19.', 'Anyone 2 years or older should properly wear a well-fitting mask in indoor public spaces.', 'If you have a weakened immune system or are at increased risk for severe disease, even if you are up to date with your COVID-19 vaccines, talk with your clinician about your risk, and consider delaying travel to Algeria.', 'Follow all requirements and recommendations\\xa0in Algeria.']\n",
      "\n",
      "Notice cannot be empty. Error country : american-samoa\n",
      "None\n",
      "None\n",
      "3\n",
      "['Make sure you are up to date with your COVID-19 vaccines before traveling to Andorra.', 'If you are not up to date with your COVID-19 vaccines, avoid travel to Andorra.', 'Even if you are up to date with your COVID-19 vaccines, you may still be at risk for getting and spreading COVID-19.', 'Anyone 2 years or older should properly wear a well-fitting mask in indoor public spaces.', 'If you have a weakened immune system or are at increased risk for severe disease, even if you are up to date with your COVID-19 vaccines, talk with your clinician about your risk, and consider delaying travel to Andorra.', 'Follow all requirements and\\xa0recommendations\\xa0in Andorra.']\n",
      "1\n",
      "['Make sure you are up to date with your COVID-19 vaccines before traveling to Angola.', 'Even if you are up to date with your COVID-19 vaccines, you may still be at risk for getting and spreading COVID-19.', 'Follow all requirements and\\xa0recommendations\\xa0in Angola.']\n",
      "3\n",
      "['Make sure you are up to date with your COVID-19 vaccines before traveling to Anguilla.', 'If you are not up to date with your COVID-19 vaccines, avoid travel to Anguilla.', 'Even if you are up to date with your COVID-19 vaccines, you may still be at risk for getting and spreading COVID-19.', 'Anyone 2 years or older should properly wear a well-fitting mask in indoor public spaces.', 'If you have a weakened immune system or are at increased risk for severe disease, even if you are up to date with your COVID-19 vaccines, talk with your clinician about your risk, and consider delaying travel to Anguilla.', 'Follow all requirements and\\xa0recommendations\\xa0in Anguilla.']\n",
      "Unknown\n",
      "['Make sure you are up to date with your COVID-19 vaccines before traveling to Antarctica.', 'If you are not up to date with your COVID-19 vaccines, avoid travel to Antarctica.', 'Even if you are up to date with your COVID-19 vaccines, you may still be at risk for getting and spreading COVID-19.', 'Anyone 2 years or older should properly wear a well-fitting mask in indoor public spaces.', 'If you have a weakened immune system or are at increased risk for severe disease, even if you are up to date with your COVID-19 vaccines, talk with your clinician about your risk, and consider delaying travel to Antarctica.', 'Follow all requirements and recommendations\\xa0in Antarctica.']\n",
      "3\n",
      "['Make sure you are up to date with your COVID-19 vaccines before traveling to Antigua and Barbuda.', 'If you are not up to date with your COVID-19 vaccines, avoid travel to Antigua and Barbuda.', 'Even if you are up to date with your COVID-19 vaccines, you may still be at risk for getting and spreading COVID-19.', 'Anyone 2 years or older should properly wear a well-fitting mask in indoor public spaces.', 'If you have a weakened immune system or are at increased risk for severe disease, even if you are up to date with your COVID-19 vaccines, talk with your clinician about your risk, and consider delaying travel to Antigua and Barbuda.', 'Follow all requirements and\\xa0recommendations\\xa0in Antigua and Barbuda.']\n",
      "3\n",
      "['Make sure you are up to date with your COVID-19 vaccines before traveling to Argentina.', 'If you are not up to date with your COVID-19 vaccines, avoid travel to Argentina.', 'Even if you are up to date with your COVID-19 vaccines, you may still be at risk for getting and spreading COVID-19.', 'Anyone 2 years or older should properly wear a well-fitting mask in indoor public spaces.', 'If you have a weakened immune system or are at increased risk for severe disease, even if you are up to date with your COVID-19 vaccines, talk with your clinician about your risk, and consider delaying travel to Argentina.', 'Follow all requirements and\\xa0recommendations\\xa0in Argentina.']\n",
      "1\n",
      "['Make sure you are up to date with your COVID-19 vaccines before traveling to Armenia.', 'Even if you are up to date with your COVID-19 vaccines, you may still be at risk for getting and spreading COVID-19.', 'Follow all requirements and\\xa0recommendations\\xa0in Armenia.']\n"
     ]
    }
   ],
   "source": [
    "populate_advisories()"
   ]
  },
  {
   "cell_type": "markdown",
   "metadata": {
    "id": "QPeIYB1JLiGQ"
   },
   "source": []
  }
 ],
 "metadata": {
  "colab": {
   "collapsed_sections": [],
   "name": "CovidDataScrapper.ipynb",
   "provenance": []
  },
  "kernelspec": {
   "display_name": "Python 3 (ipykernel)",
   "language": "python",
   "name": "python3"
  },
  "language_info": {
   "codemirror_mode": {
    "name": "ipython",
    "version": 3
   },
   "file_extension": ".py",
   "mimetype": "text/x-python",
   "name": "python",
   "nbconvert_exporter": "python",
   "pygments_lexer": "ipython3",
   "version": "3.9.12"
  }
 },
 "nbformat": 4,
 "nbformat_minor": 1
}
